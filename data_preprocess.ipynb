{
 "cells": [
  {
   "cell_type": "markdown",
   "metadata": {},
   "source": [
    "# Importing necessary packages"
   ]
  },
  {
   "cell_type": "code",
   "execution_count": 1,
   "metadata": {
    "collapsed": true,
    "deletable": true,
    "editable": true
   },
   "outputs": [
    {
     "name": "stderr",
     "output_type": "stream",
     "text": [
      "c:\\anaconda\\envs\\machine_learning\\lib\\site-packages\\numpy\\_distributor_init.py:30: UserWarning: loaded more than 1 DLL from .libs:\n",
      "c:\\anaconda\\envs\\machine_learning\\lib\\site-packages\\numpy\\.libs\\libopenblas.GK7GX5KEQ4F6UYO3P26ULGBQYHGQO7J4.gfortran-win_amd64.dll\n",
      "c:\\anaconda\\envs\\machine_learning\\lib\\site-packages\\numpy\\.libs\\libopenblas.PYQHXLVVQ7VESDPUVUADXEVJOBGHJPAY.gfortran-win_amd64.dll\n",
      "  warnings.warn(\"loaded more than 1 DLL from .libs:\"\n"
     ]
    },
    {
     "name": "stdout",
     "output_type": "stream",
     "text": [
      "finished importing\n"
     ]
    }
   ],
   "source": [
    "import pandas as pd\n",
    "import numpy as np\n",
    "# import cPickle\n",
    "import _pickle as cPickle \n",
    "from gensim.models import word2vec\n",
    "import logging\n",
    "import gensim\n",
    "from sklearn.metrics.pairwise import cosine_distances,cosine_similarity\n",
    "print(\"finished importing\")"
   ]
  },
  {
   "attachments": {},
   "cell_type": "markdown",
   "metadata": {},
   "source": [
    "# 50k data"
   ]
  },
  {
   "cell_type": "code",
   "execution_count": 1,
   "metadata": {},
   "outputs": [
    {
     "name": "stderr",
     "output_type": "stream",
     "text": [
      "c:\\anaconda\\envs\\machine_learning\\lib\\site-packages\\numpy\\_distributor_init.py:30: UserWarning: loaded more than 1 DLL from .libs:\n",
      "c:\\anaconda\\envs\\machine_learning\\lib\\site-packages\\numpy\\.libs\\libopenblas.GK7GX5KEQ4F6UYO3P26ULGBQYHGQO7J4.gfortran-win_amd64.dll\n",
      "c:\\anaconda\\envs\\machine_learning\\lib\\site-packages\\numpy\\.libs\\libopenblas.PYQHXLVVQ7VESDPUVUADXEVJOBGHJPAY.gfortran-win_amd64.dll\n",
      "  warnings.warn(\"loaded more than 1 DLL from .libs:\"\n",
      "C:\\Users\\rbw19\\AppData\\Local\\Temp\\ipykernel_13380\\1496849688.py:3: DtypeWarning: Columns (34,35,36,37,38,39,40,41,42,43,44,45,46,47,48,49,50,51,52,53,54,55,56,57,58,59,60,61,62,63,64,65,66,67,68,69,70,71,72,73,74,75,76,77,78,79,80,81,82,83,84,85,86,87,88,89,90,91,92,93,94,95,96,97,98,99,100,101,102,103,104,105,106,107,108,109,110,111,112,113,114,115,116,117,118,119,120,121,122,123,124,125,126,127,128,129,130,131,132,133,134,135,136,137,138,139,140,141,142,143,144,145,146,147,148,149,150,151,152,153,154,155,156,157,158,159,160,161,162,163,164,165,166,167,168,169,170,171,172,173,174,175,176,177,178,179,180,181,182,183,184,185,186,187,188,189,190,191,192,193,194,195,196,197,198,199,200,201,202,203,204,205,206,207,208,209,210,211,212,213,214,215,216,217,218,219,220,221,222,223,224,225,226,227,228,229,230,231,232,233,234,235,236,237,238,239,240,241,242,243,244,245,246,247,248,249,250,251,252,253,254,255,256,257,258,259,260,261,262,263,264,265,266,267,268,269,270,271,272,273,274,275,276,277,278,279,280,281,282,283,284,285,286,287,288,289,290,291,292,293,294,295,296,297,298,299,300,301,302,303,304,305,306,307,308,309,310,311,312,313,314,315,316,317,318,319,320,321,322,323,324,325,326,327,328,329,330,331,332,333,334,335,336,337,338,339,340,341,342,343,344,345,346,347,348,349,350,351,352,353,354,355,356,357,358,359,360,361,362,363,364,365,366,367,368,369,370,371,372,373,374,375,376,377,378,379,380,381,382,383,384,385,386,387,388,389,390,391,392,393,394,395,396,397,398,399,400,401,402,403,404,405,406,407,408,409,410,411,412,413,414,415,416,417,418,419,420,421,422,423,424,425,426,427,428,429,430,431,432,433,434,435,436,437,438,439,440,441,442,443,444,445,446,447,448,449,450,451,452,453,454,455,456,457,458,459,460,461,462,463,464,465,466,467,468,469,470,471,472,473,474,475,476,477,478,479,480,481,482,483,484,485,486,487,488,489,490,491,492,493,494,495,496,497,498,499,500,501,502,503,504,505,506,507,508,509,510,511,512,513,514,515,516,517,518,519,520,521,522,523,524,525,526,527,528,529,530,531,532,533,534,535,536,537,538,539,540,541,542,543,544,545,546,547,548,549,550,551,552,553,554,555,556,557,558,559,560,561,562,563,564,565,566,567,568,569,570,571,572,573,574,575,576,577,578,579,580,581,582,583,584,585,586,587,588,589,590,591,592,593,594,595,596,597,598,599,600,601,602,603,604,605,606,607,608,609,610,611,612,613,614,615,616,617,618,619,620,621,622,623,624,625,626,627,628,629,630,631,632,633,634,635,636,637,638,639,640,641,642,643,644,645,646,647,648,649,650,651,652,653,654,655,656,657,658,659,660,661,662,663,664,665,666,667,668,669,670,671,672,673,674,675,676,677,678,679,680,681,682,683,684,685,686,687,688,689,690,691,692,693,694,695,696,697,698,699,700,701,702,703,704,705,706,707,708,709,710,711,712,713,714,715,716,717,718,719,720,721,722,723,724,725,726,727,728,729,730,731,732,733,734,735,736,737,738,739,740,741,742,743,744,745,746,747,748,749,750,751,752,753,754,755,756,757,758,759,760,761,762,763,764,765,766,767,768,769,770,771,772,773,774,775,776,777,778,779,780,781,782,783,784,785,786,787,788,789,790,791,792,793,794,795,796,797,798,799,800,801,802,803,804,805,806,807,808,809,810,811,812,813,814,815,816,817,818,819,820,821,822,823,824,825,826,827,828,829,830,831,832,833,834,835,836,837,838,839,840,841,842,843,844,845,846,847,848,849,850,851,852,853,854,855,856,857,858,859,860,861,862,863,864,865,866,867,868,869,870,871,872,873,874,875,876,877,878,879,880,881,882,883,884,885,886,887,888,889,890,891,892,893,894,895,896,897,898,899,900,901,902,903,904,905,906,907,908,909,910,911,912,913,914,915,916,917,918,919,920,921,922,923,924,925,926,927,928,929,930,931,932,933,934,935,936,937,938,939,940,941,942,943,944,945,946,947,948,949,950,951,952,953,954,955,956,957,958,959,960) have mixed types. Specify dtype option on import or set low_memory=False.\n",
      "  fk_df=pd.read_csv('data/skill2vec_50k.csv',header=None,encoding='ISO-8859-1') #reading the dataset\n"
     ]
    },
    {
     "data": {
      "text/html": [
       "<div>\n",
       "<style scoped>\n",
       "    .dataframe tbody tr th:only-of-type {\n",
       "        vertical-align: middle;\n",
       "    }\n",
       "\n",
       "    .dataframe tbody tr th {\n",
       "        vertical-align: top;\n",
       "    }\n",
       "\n",
       "    .dataframe thead th {\n",
       "        text-align: right;\n",
       "    }\n",
       "</style>\n",
       "<table border=\"1\" class=\"dataframe\">\n",
       "  <thead>\n",
       "    <tr style=\"text-align: right;\">\n",
       "      <th></th>\n",
       "      <th>0</th>\n",
       "      <th>1</th>\n",
       "      <th>2</th>\n",
       "      <th>3</th>\n",
       "      <th>4</th>\n",
       "      <th>5</th>\n",
       "      <th>6</th>\n",
       "      <th>7</th>\n",
       "      <th>8</th>\n",
       "      <th>9</th>\n",
       "      <th>...</th>\n",
       "      <th>951</th>\n",
       "      <th>952</th>\n",
       "      <th>953</th>\n",
       "      <th>954</th>\n",
       "      <th>955</th>\n",
       "      <th>956</th>\n",
       "      <th>957</th>\n",
       "      <th>958</th>\n",
       "      <th>959</th>\n",
       "      <th>960</th>\n",
       "    </tr>\n",
       "  </thead>\n",
       "  <tbody>\n",
       "    <tr>\n",
       "      <th>0</th>\n",
       "      <td>125720</td>\n",
       "      <td>HR Executive</td>\n",
       "      <td>screening</td>\n",
       "      <td>selection</td>\n",
       "      <td>Interview</td>\n",
       "      <td>HR</td>\n",
       "      <td>Recruiter</td>\n",
       "      <td>IT Recruiter</td>\n",
       "      <td>Sourcing</td>\n",
       "      <td>recruitment executive</td>\n",
       "      <td>...</td>\n",
       "      <td>NaN</td>\n",
       "      <td>NaN</td>\n",
       "      <td>NaN</td>\n",
       "      <td>NaN</td>\n",
       "      <td>NaN</td>\n",
       "      <td>NaN</td>\n",
       "      <td>NaN</td>\n",
       "      <td>NaN</td>\n",
       "      <td>NaN</td>\n",
       "      <td>NaN</td>\n",
       "    </tr>\n",
       "    <tr>\n",
       "      <th>1</th>\n",
       "      <td>112708</td>\n",
       "      <td>Special Teacher</td>\n",
       "      <td>Teaching</td>\n",
       "      <td>Education</td>\n",
       "      <td>NaN</td>\n",
       "      <td>NaN</td>\n",
       "      <td>NaN</td>\n",
       "      <td>NaN</td>\n",
       "      <td>NaN</td>\n",
       "      <td>NaN</td>\n",
       "      <td>...</td>\n",
       "      <td>NaN</td>\n",
       "      <td>NaN</td>\n",
       "      <td>NaN</td>\n",
       "      <td>NaN</td>\n",
       "      <td>NaN</td>\n",
       "      <td>NaN</td>\n",
       "      <td>NaN</td>\n",
       "      <td>NaN</td>\n",
       "      <td>NaN</td>\n",
       "      <td>NaN</td>\n",
       "    </tr>\n",
       "    <tr>\n",
       "      <th>2</th>\n",
       "      <td>115226</td>\n",
       "      <td>consulting</td>\n",
       "      <td>fresher</td>\n",
       "      <td>IT helpdesk</td>\n",
       "      <td>Techincal Troubleshooting</td>\n",
       "      <td>international voice</td>\n",
       "      <td>international BPO</td>\n",
       "      <td>technical support</td>\n",
       "      <td>outsourcing</td>\n",
       "      <td>call center</td>\n",
       "      <td>...</td>\n",
       "      <td>NaN</td>\n",
       "      <td>NaN</td>\n",
       "      <td>NaN</td>\n",
       "      <td>NaN</td>\n",
       "      <td>NaN</td>\n",
       "      <td>NaN</td>\n",
       "      <td>NaN</td>\n",
       "      <td>NaN</td>\n",
       "      <td>NaN</td>\n",
       "      <td>NaN</td>\n",
       "    </tr>\n",
       "    <tr>\n",
       "      <th>3</th>\n",
       "      <td>19805</td>\n",
       "      <td>diploma</td>\n",
       "      <td>machining</td>\n",
       "      <td>cnc m</td>\n",
       "      <td>mould</td>\n",
       "      <td>conventional machines</td>\n",
       "      <td>die making</td>\n",
       "      <td>knowledge</td>\n",
       "      <td>tool</td>\n",
       "      <td>cipet</td>\n",
       "      <td>...</td>\n",
       "      <td>NaN</td>\n",
       "      <td>NaN</td>\n",
       "      <td>NaN</td>\n",
       "      <td>NaN</td>\n",
       "      <td>NaN</td>\n",
       "      <td>NaN</td>\n",
       "      <td>NaN</td>\n",
       "      <td>NaN</td>\n",
       "      <td>NaN</td>\n",
       "      <td>NaN</td>\n",
       "    </tr>\n",
       "    <tr>\n",
       "      <th>4</th>\n",
       "      <td>80208</td>\n",
       "      <td>Compensation</td>\n",
       "      <td>Benefits</td>\n",
       "      <td>HR Functions</td>\n",
       "      <td>Alm</td>\n",
       "      <td>Payroll</td>\n",
       "      <td>ESS</td>\n",
       "      <td>Core HR</td>\n",
       "      <td>QC</td>\n",
       "      <td>QA</td>\n",
       "      <td>...</td>\n",
       "      <td>NaN</td>\n",
       "      <td>NaN</td>\n",
       "      <td>NaN</td>\n",
       "      <td>NaN</td>\n",
       "      <td>NaN</td>\n",
       "      <td>NaN</td>\n",
       "      <td>NaN</td>\n",
       "      <td>NaN</td>\n",
       "      <td>NaN</td>\n",
       "      <td>NaN</td>\n",
       "    </tr>\n",
       "  </tbody>\n",
       "</table>\n",
       "<p>5 rows × 961 columns</p>\n",
       "</div>"
      ],
      "text/plain": [
       "      0                1          2             3    \\\n",
       "0  125720     HR Executive  screening     selection   \n",
       "1  112708  Special Teacher   Teaching     Education   \n",
       "2  115226       consulting    fresher   IT helpdesk   \n",
       "3   19805          diploma  machining         cnc m   \n",
       "4   80208     Compensation   Benefits  HR Functions   \n",
       "\n",
       "                         4                      5                  6    \\\n",
       "0                  Interview                     HR          Recruiter   \n",
       "1                        NaN                    NaN                NaN   \n",
       "2  Techincal Troubleshooting    international voice  international BPO   \n",
       "3                      mould  conventional machines         die making   \n",
       "4                        Alm                Payroll                ESS   \n",
       "\n",
       "                 7            8                      9    ...  951  952  953  \\\n",
       "0       IT Recruiter     Sourcing  recruitment executive  ...  NaN  NaN  NaN   \n",
       "1                NaN          NaN                    NaN  ...  NaN  NaN  NaN   \n",
       "2  technical support  outsourcing            call center  ...  NaN  NaN  NaN   \n",
       "3          knowledge         tool                  cipet  ...  NaN  NaN  NaN   \n",
       "4            Core HR           QC                     QA  ...  NaN  NaN  NaN   \n",
       "\n",
       "   954  955  956  957  958  959  960  \n",
       "0  NaN  NaN  NaN  NaN  NaN  NaN  NaN  \n",
       "1  NaN  NaN  NaN  NaN  NaN  NaN  NaN  \n",
       "2  NaN  NaN  NaN  NaN  NaN  NaN  NaN  \n",
       "3  NaN  NaN  NaN  NaN  NaN  NaN  NaN  \n",
       "4  NaN  NaN  NaN  NaN  NaN  NaN  NaN  \n",
       "\n",
       "[5 rows x 961 columns]"
      ]
     },
     "execution_count": 1,
     "metadata": {},
     "output_type": "execute_result"
    }
   ],
   "source": [
    "import pandas as pd\n",
    "import _pickle as cPickle\n",
    "fk_df=pd.read_csv('data/skill2vec_50k.csv',header=None,encoding='ISO-8859-1') #reading the dataset\n",
    "fk_df.head()"
   ]
  },
  {
   "cell_type": "code",
   "execution_count": 68,
   "metadata": {},
   "outputs": [],
   "source": [
    "fk_df.drop([0],axis=1,inplace=True)\n"
   ]
  },
  {
   "cell_type": "code",
   "execution_count": 72,
   "metadata": {},
   "outputs": [],
   "source": [
    "fk_df.fillna(\"\",inplace=True)"
   ]
  },
  {
   "cell_type": "code",
   "execution_count": 73,
   "metadata": {},
   "outputs": [
    {
     "data": {
      "text/html": [
       "<div>\n",
       "<style scoped>\n",
       "    .dataframe tbody tr th:only-of-type {\n",
       "        vertical-align: middle;\n",
       "    }\n",
       "\n",
       "    .dataframe tbody tr th {\n",
       "        vertical-align: top;\n",
       "    }\n",
       "\n",
       "    .dataframe thead th {\n",
       "        text-align: right;\n",
       "    }\n",
       "</style>\n",
       "<table border=\"1\" class=\"dataframe\">\n",
       "  <thead>\n",
       "    <tr style=\"text-align: right;\">\n",
       "      <th></th>\n",
       "      <th>1</th>\n",
       "      <th>2</th>\n",
       "      <th>3</th>\n",
       "      <th>4</th>\n",
       "      <th>5</th>\n",
       "      <th>6</th>\n",
       "      <th>7</th>\n",
       "      <th>8</th>\n",
       "      <th>9</th>\n",
       "      <th>10</th>\n",
       "      <th>...</th>\n",
       "      <th>951</th>\n",
       "      <th>952</th>\n",
       "      <th>953</th>\n",
       "      <th>954</th>\n",
       "      <th>955</th>\n",
       "      <th>956</th>\n",
       "      <th>957</th>\n",
       "      <th>958</th>\n",
       "      <th>959</th>\n",
       "      <th>960</th>\n",
       "    </tr>\n",
       "  </thead>\n",
       "  <tbody>\n",
       "    <tr>\n",
       "      <th>0</th>\n",
       "      <td>HR Executive</td>\n",
       "      <td>screening</td>\n",
       "      <td>selection</td>\n",
       "      <td>Interview</td>\n",
       "      <td>HR</td>\n",
       "      <td>Recruiter</td>\n",
       "      <td>IT Recruiter</td>\n",
       "      <td>Sourcing</td>\n",
       "      <td>recruitment executive</td>\n",
       "      <td>onboarding</td>\n",
       "      <td>...</td>\n",
       "      <td></td>\n",
       "      <td></td>\n",
       "      <td></td>\n",
       "      <td></td>\n",
       "      <td></td>\n",
       "      <td></td>\n",
       "      <td></td>\n",
       "      <td></td>\n",
       "      <td></td>\n",
       "      <td></td>\n",
       "    </tr>\n",
       "    <tr>\n",
       "      <th>1</th>\n",
       "      <td>Special Teacher</td>\n",
       "      <td>Teaching</td>\n",
       "      <td>Education</td>\n",
       "      <td></td>\n",
       "      <td></td>\n",
       "      <td></td>\n",
       "      <td></td>\n",
       "      <td></td>\n",
       "      <td></td>\n",
       "      <td></td>\n",
       "      <td>...</td>\n",
       "      <td></td>\n",
       "      <td></td>\n",
       "      <td></td>\n",
       "      <td></td>\n",
       "      <td></td>\n",
       "      <td></td>\n",
       "      <td></td>\n",
       "      <td></td>\n",
       "      <td></td>\n",
       "      <td></td>\n",
       "    </tr>\n",
       "    <tr>\n",
       "      <th>2</th>\n",
       "      <td>consulting</td>\n",
       "      <td>fresher</td>\n",
       "      <td>IT helpdesk</td>\n",
       "      <td>Techincal Troubleshooting</td>\n",
       "      <td>international voice</td>\n",
       "      <td>international BPO</td>\n",
       "      <td>technical support</td>\n",
       "      <td>outsourcing</td>\n",
       "      <td>call center</td>\n",
       "      <td>BBA fresher</td>\n",
       "      <td>...</td>\n",
       "      <td></td>\n",
       "      <td></td>\n",
       "      <td></td>\n",
       "      <td></td>\n",
       "      <td></td>\n",
       "      <td></td>\n",
       "      <td></td>\n",
       "      <td></td>\n",
       "      <td></td>\n",
       "      <td></td>\n",
       "    </tr>\n",
       "    <tr>\n",
       "      <th>3</th>\n",
       "      <td>diploma</td>\n",
       "      <td>machining</td>\n",
       "      <td>cnc m</td>\n",
       "      <td>mould</td>\n",
       "      <td>conventional machines</td>\n",
       "      <td>die making</td>\n",
       "      <td>knowledge</td>\n",
       "      <td>tool</td>\n",
       "      <td>cipet</td>\n",
       "      <td>assembly</td>\n",
       "      <td>...</td>\n",
       "      <td></td>\n",
       "      <td></td>\n",
       "      <td></td>\n",
       "      <td></td>\n",
       "      <td></td>\n",
       "      <td></td>\n",
       "      <td></td>\n",
       "      <td></td>\n",
       "      <td></td>\n",
       "      <td></td>\n",
       "    </tr>\n",
       "    <tr>\n",
       "      <th>4</th>\n",
       "      <td>Compensation</td>\n",
       "      <td>Benefits</td>\n",
       "      <td>HR Functions</td>\n",
       "      <td>Alm</td>\n",
       "      <td>Payroll</td>\n",
       "      <td>ESS</td>\n",
       "      <td>Core HR</td>\n",
       "      <td>QC</td>\n",
       "      <td>QA</td>\n",
       "      <td>SQL</td>\n",
       "      <td>...</td>\n",
       "      <td></td>\n",
       "      <td></td>\n",
       "      <td></td>\n",
       "      <td></td>\n",
       "      <td></td>\n",
       "      <td></td>\n",
       "      <td></td>\n",
       "      <td></td>\n",
       "      <td></td>\n",
       "      <td></td>\n",
       "    </tr>\n",
       "    <tr>\n",
       "      <th>...</th>\n",
       "      <td>...</td>\n",
       "      <td>...</td>\n",
       "      <td>...</td>\n",
       "      <td>...</td>\n",
       "      <td>...</td>\n",
       "      <td>...</td>\n",
       "      <td>...</td>\n",
       "      <td>...</td>\n",
       "      <td>...</td>\n",
       "      <td>...</td>\n",
       "      <td>...</td>\n",
       "      <td>...</td>\n",
       "      <td>...</td>\n",
       "      <td>...</td>\n",
       "      <td>...</td>\n",
       "      <td>...</td>\n",
       "      <td>...</td>\n",
       "      <td>...</td>\n",
       "      <td>...</td>\n",
       "      <td>...</td>\n",
       "      <td>...</td>\n",
       "    </tr>\n",
       "    <tr>\n",
       "      <th>49995</th>\n",
       "      <td>Chief Engineer</td>\n",
       "      <td></td>\n",
       "      <td></td>\n",
       "      <td></td>\n",
       "      <td></td>\n",
       "      <td></td>\n",
       "      <td></td>\n",
       "      <td></td>\n",
       "      <td></td>\n",
       "      <td></td>\n",
       "      <td>...</td>\n",
       "      <td></td>\n",
       "      <td></td>\n",
       "      <td></td>\n",
       "      <td></td>\n",
       "      <td></td>\n",
       "      <td></td>\n",
       "      <td></td>\n",
       "      <td></td>\n",
       "      <td></td>\n",
       "      <td></td>\n",
       "    </tr>\n",
       "    <tr>\n",
       "      <th>49996</th>\n",
       "      <td>Receptionist Activities</td>\n",
       "      <td>Front Desk</td>\n",
       "      <td>front office</td>\n",
       "      <td>front desk executive</td>\n",
       "      <td>front office executive</td>\n",
       "      <td>receptionist</td>\n",
       "      <td>reception</td>\n",
       "      <td></td>\n",
       "      <td></td>\n",
       "      <td></td>\n",
       "      <td>...</td>\n",
       "      <td></td>\n",
       "      <td></td>\n",
       "      <td></td>\n",
       "      <td></td>\n",
       "      <td></td>\n",
       "      <td></td>\n",
       "      <td></td>\n",
       "      <td></td>\n",
       "      <td></td>\n",
       "      <td></td>\n",
       "    </tr>\n",
       "    <tr>\n",
       "      <th>49997</th>\n",
       "      <td>SQL Queries</td>\n",
       "      <td>Log Analysis</td>\n",
       "      <td>Hardware Networking</td>\n",
       "      <td>People Leadership</td>\n",
       "      <td>Technical Skills</td>\n",
       "      <td>Unix</td>\n",
       "      <td>Oracle</td>\n",
       "      <td>Service Delivery Management</td>\n",
       "      <td>Database Administration</td>\n",
       "      <td>Continuous Improvement</td>\n",
       "      <td>...</td>\n",
       "      <td></td>\n",
       "      <td></td>\n",
       "      <td></td>\n",
       "      <td></td>\n",
       "      <td></td>\n",
       "      <td></td>\n",
       "      <td></td>\n",
       "      <td></td>\n",
       "      <td></td>\n",
       "      <td></td>\n",
       "    </tr>\n",
       "    <tr>\n",
       "      <th>49998</th>\n",
       "      <td>Quality Analyst</td>\n",
       "      <td></td>\n",
       "      <td></td>\n",
       "      <td></td>\n",
       "      <td></td>\n",
       "      <td></td>\n",
       "      <td></td>\n",
       "      <td></td>\n",
       "      <td></td>\n",
       "      <td></td>\n",
       "      <td>...</td>\n",
       "      <td></td>\n",
       "      <td></td>\n",
       "      <td></td>\n",
       "      <td></td>\n",
       "      <td></td>\n",
       "      <td></td>\n",
       "      <td></td>\n",
       "      <td></td>\n",
       "      <td></td>\n",
       "      <td></td>\n",
       "    </tr>\n",
       "    <tr>\n",
       "      <th>49999</th>\n",
       "      <td>PY</td>\n",
       "      <td>Payroll</td>\n",
       "      <td>OM</td>\n",
       "      <td>SAP HCM</td>\n",
       "      <td>PA</td>\n",
       "      <td>Organizational Management</td>\n",
       "      <td>Recruitment</td>\n",
       "      <td>Schema</td>\n",
       "      <td>Functional Consultancy</td>\n",
       "      <td></td>\n",
       "      <td>...</td>\n",
       "      <td></td>\n",
       "      <td></td>\n",
       "      <td></td>\n",
       "      <td></td>\n",
       "      <td></td>\n",
       "      <td></td>\n",
       "      <td></td>\n",
       "      <td></td>\n",
       "      <td></td>\n",
       "      <td></td>\n",
       "    </tr>\n",
       "  </tbody>\n",
       "</table>\n",
       "<p>50000 rows × 960 columns</p>\n",
       "</div>"
      ],
      "text/plain": [
       "                           1             2                    3    \\\n",
       "0                 HR Executive     screening            selection   \n",
       "1              Special Teacher      Teaching            Education   \n",
       "2                   consulting       fresher          IT helpdesk   \n",
       "3                      diploma     machining                cnc m   \n",
       "4                 Compensation      Benefits         HR Functions   \n",
       "...                        ...           ...                  ...   \n",
       "49995           Chief Engineer                                      \n",
       "49996  Receptionist Activities    Front Desk         front office   \n",
       "49997              SQL Queries  Log Analysis  Hardware Networking   \n",
       "49998          Quality Analyst                                      \n",
       "49999                       PY       Payroll                   OM   \n",
       "\n",
       "                             4                       5    \\\n",
       "0                      Interview                      HR   \n",
       "1                                                          \n",
       "2      Techincal Troubleshooting     international voice   \n",
       "3                          mould   conventional machines   \n",
       "4                            Alm                 Payroll   \n",
       "...                          ...                     ...   \n",
       "49995                                                      \n",
       "49996       front desk executive  front office executive   \n",
       "49997          People Leadership        Technical Skills   \n",
       "49998                                                      \n",
       "49999                    SAP HCM                      PA   \n",
       "\n",
       "                             6                  7    \\\n",
       "0                      Recruiter       IT Recruiter   \n",
       "1                                                     \n",
       "2              international BPO  technical support   \n",
       "3                     die making          knowledge   \n",
       "4                            ESS            Core HR   \n",
       "...                          ...                ...   \n",
       "49995                                                 \n",
       "49996               receptionist          reception   \n",
       "49997                       Unix             Oracle   \n",
       "49998                                                 \n",
       "49999  Organizational Management        Recruitment   \n",
       "\n",
       "                               8                        9    \\\n",
       "0                         Sourcing    recruitment executive   \n",
       "1                                                             \n",
       "2                      outsourcing              call center   \n",
       "3                             tool                    cipet   \n",
       "4                               QC                       QA   \n",
       "...                            ...                      ...   \n",
       "49995                                                         \n",
       "49996                                                         \n",
       "49997  Service Delivery Management  Database Administration   \n",
       "49998                                                         \n",
       "49999                       Schema   Functional Consultancy   \n",
       "\n",
       "                          10   ... 951 952 953 954 955 956 957 958 959 960  \n",
       "0                  onboarding  ...                                          \n",
       "1                              ...                                          \n",
       "2                 BBA fresher  ...                                          \n",
       "3                    assembly  ...                                          \n",
       "4                         SQL  ...                                          \n",
       "...                       ...  ...  ..  ..  ..  ..  ..  ..  ..  ..  ..  ..  \n",
       "49995                          ...                                          \n",
       "49996                          ...                                          \n",
       "49997  Continuous Improvement  ...                                          \n",
       "49998                          ...                                          \n",
       "49999                          ...                                          \n",
       "\n",
       "[50000 rows x 960 columns]"
      ]
     },
     "execution_count": 73,
     "metadata": {},
     "output_type": "execute_result"
    }
   ],
   "source": [
    "fk_df"
   ]
  },
  {
   "cell_type": "code",
   "execution_count": 74,
   "metadata": {},
   "outputs": [],
   "source": [
    "dataframe = fk_df.apply(lambda x: x.astype(str).str.lower())"
   ]
  },
  {
   "cell_type": "code",
   "execution_count": 75,
   "metadata": {},
   "outputs": [],
   "source": [
    "dataframe = dataframe.apply(lambda x: x.str.replace(' ', '_') if x.dtype == \"object\" else x)"
   ]
  },
  {
   "cell_type": "code",
   "execution_count": 84,
   "metadata": {},
   "outputs": [],
   "source": [
    "dataframe = dataframe.apply(lambda x: ' '.join(x.dropna().astype(str)), axis=1) "
   ]
  },
  {
   "cell_type": "code",
   "execution_count": 87,
   "metadata": {},
   "outputs": [
    {
     "data": {
      "text/plain": [
       "0        hr_executive screening selection interview hr ...\n",
       "1        special_teacher teaching education            ...\n",
       "2        consulting fresher it_helpdesk techincal_troub...\n",
       "3        diploma machining cnc_m mould conventional_mac...\n",
       "4        compensation benefits hr_functions alm payroll...\n",
       "                               ...                        \n",
       "49995    chief_engineer                                ...\n",
       "49996    receptionist_activities front_desk front_offic...\n",
       "49997    sql_queries log_analysis hardware_networking p...\n",
       "49998    quality_analyst                               ...\n",
       "49999    py payroll om sap_hcm pa organizational_manage...\n",
       "Length: 50000, dtype: object"
      ]
     },
     "execution_count": 87,
     "metadata": {},
     "output_type": "execute_result"
    }
   ],
   "source": [
    "dataframe"
   ]
  },
  {
   "cell_type": "code",
   "execution_count": 92,
   "metadata": {},
   "outputs": [],
   "source": [
    "skill_sets=[]\n",
    "for rows in dataframe:\n",
    "    split_list = [s.strip() for s in rows.split(\" \") if s.strip()]\n",
    "    skill_sets.append(split_list)\n",
    "    # break\n",
    "# dataframe.iloc[0].split(\" \")"
   ]
  },
  {
   "cell_type": "code",
   "execution_count": 105,
   "metadata": {},
   "outputs": [
    {
     "data": {
      "text/plain": [
       "['special_teacher', 'teaching', 'education']"
      ]
     },
     "execution_count": 105,
     "metadata": {},
     "output_type": "execute_result"
    }
   ],
   "source": [
    "len(skill_sets)"
   ]
  },
  {
   "cell_type": "code",
   "execution_count": 121,
   "metadata": {},
   "outputs": [],
   "source": [
    "\n",
    "final_skill_set=[]\n",
    "for skill_set in skill_sets:\n",
    "    temp=[]\n",
    "    for skill in skill_set:\n",
    "        if skill not in temp: #eliminating skill repeatations within skill set\n",
    "            temp.append(skill)\n",
    "    if temp not in final_skill_set: #eliminaing skill sets repeatations\n",
    "        final_skill_set.append(temp)"
   ]
  },
  {
   "cell_type": "code",
   "execution_count": 146,
   "metadata": {},
   "outputs": [],
   "source": [
    "import pickle\n",
    "with open(\"50k_skill_set_processed.pkl\", \"wb\") as f:\n",
    "    pickle.dump(final_skill_set,f)\n",
    "# with open(\"50k_skill_set_processed.pkl\",\"rb\") as f:\n",
    "#     a=pickle.load(f)\n",
    "#     print(len(a))\n"
   ]
  },
  {
   "cell_type": "code",
   "execution_count": 129,
   "metadata": {},
   "outputs": [],
   "source": [
    "skills=[]\n",
    "for skillset in final_skill_set:\n",
    "    for skill in skillset:\n",
    "        if skill not in skills:\n",
    "            skills.append(skill)\n"
   ]
  },
  {
   "cell_type": "code",
   "execution_count": 151,
   "metadata": {},
   "outputs": [
    {
     "name": "stdout",
     "output_type": "stream",
     "text": [
      "After processing 50k dataset has 46810 skill sets and 53503 skills\n"
     ]
    }
   ],
   "source": [
    "print('After processing 50k dataset has',len(final_skill_set),'skill sets and',len(skills),'skills')"
   ]
  },
  {
   "attachments": {},
   "cell_type": "markdown",
   "metadata": {},
   "source": [
    "# naukri_skill_full"
   ]
  },
  {
   "cell_type": "code",
   "execution_count": 196,
   "metadata": {},
   "outputs": [
    {
     "data": {
      "text/html": [
       "<div>\n",
       "<style scoped>\n",
       "    .dataframe tbody tr th:only-of-type {\n",
       "        vertical-align: middle;\n",
       "    }\n",
       "\n",
       "    .dataframe tbody tr th {\n",
       "        vertical-align: top;\n",
       "    }\n",
       "\n",
       "    .dataframe thead th {\n",
       "        text-align: right;\n",
       "    }\n",
       "</style>\n",
       "<table border=\"1\" class=\"dataframe\">\n",
       "  <thead>\n",
       "    <tr style=\"text-align: right;\">\n",
       "      <th></th>\n",
       "      <th>id</th>\n",
       "      <th>skill</th>\n",
       "    </tr>\n",
       "  </thead>\n",
       "  <tbody>\n",
       "    <tr>\n",
       "      <th>0</th>\n",
       "      <td>0</td>\n",
       "      <td>CEASER</td>\n",
       "    </tr>\n",
       "    <tr>\n",
       "      <th>1</th>\n",
       "      <td>0</td>\n",
       "      <td>CAAD</td>\n",
       "    </tr>\n",
       "    <tr>\n",
       "      <th>2</th>\n",
       "      <td>0</td>\n",
       "      <td>Design</td>\n",
       "    </tr>\n",
       "    <tr>\n",
       "      <th>3</th>\n",
       "      <td>0</td>\n",
       "      <td>piping</td>\n",
       "    </tr>\n",
       "    <tr>\n",
       "      <th>4</th>\n",
       "      <td>0</td>\n",
       "      <td>thermal power plants</td>\n",
       "    </tr>\n",
       "    <tr>\n",
       "      <th>...</th>\n",
       "      <td>...</td>\n",
       "      <td>...</td>\n",
       "    </tr>\n",
       "    <tr>\n",
       "      <th>955295</th>\n",
       "      <td>185864</td>\n",
       "      <td>Mainframe JCL</td>\n",
       "    </tr>\n",
       "    <tr>\n",
       "      <th>955296</th>\n",
       "      <td>185864</td>\n",
       "      <td>SQL coding tuning</td>\n",
       "    </tr>\n",
       "    <tr>\n",
       "      <th>955297</th>\n",
       "      <td>185864</td>\n",
       "      <td>System Development Life Cycle</td>\n",
       "    </tr>\n",
       "    <tr>\n",
       "      <th>955298</th>\n",
       "      <td>185864</td>\n",
       "      <td>DB2</td>\n",
       "    </tr>\n",
       "    <tr>\n",
       "      <th>955299</th>\n",
       "      <td>185864</td>\n",
       "      <td>SDLC</td>\n",
       "    </tr>\n",
       "  </tbody>\n",
       "</table>\n",
       "<p>955300 rows × 2 columns</p>\n",
       "</div>"
      ],
      "text/plain": [
       "            id                          skill\n",
       "0            0                         CEASER\n",
       "1            0                           CAAD\n",
       "2            0                         Design\n",
       "3            0                         piping\n",
       "4            0           thermal power plants\n",
       "...        ...                            ...\n",
       "955295  185864                  Mainframe JCL\n",
       "955296  185864              SQL coding tuning\n",
       "955297  185864  System Development Life Cycle\n",
       "955298  185864                            DB2\n",
       "955299  185864                           SDLC\n",
       "\n",
       "[955300 rows x 2 columns]"
      ]
     },
     "execution_count": 196,
     "metadata": {},
     "output_type": "execute_result"
    }
   ],
   "source": [
    "import pandas as pd\n",
    "data_naruki = pd.read_csv('naukri_skill_full', header = 0, encoding='ISO-8859-1')\n",
    "data_naruki"
   ]
  },
  {
   "cell_type": "code",
   "execution_count": 197,
   "metadata": {},
   "outputs": [
    {
     "name": "stdout",
     "output_type": "stream",
     "text": [
      "<class 'pandas.core.frame.DataFrame'>\n",
      "RangeIndex: 955300 entries, 0 to 955299\n",
      "Data columns (total 2 columns):\n",
      " #   Column  Non-Null Count   Dtype \n",
      "---  ------  --------------   ----- \n",
      " 0   id      955300 non-null  int64 \n",
      " 1   skill   954948 non-null  object\n",
      "dtypes: int64(1), object(1)\n",
      "memory usage: 14.6+ MB\n"
     ]
    }
   ],
   "source": [
    "data_naruki.info()"
   ]
  },
  {
   "cell_type": "code",
   "execution_count": 198,
   "metadata": {},
   "outputs": [],
   "source": [
    "# data_naruki[data_naruki.isnull().any(axis=1)].index\n",
    "# df[df.isnull().any(axis=1)]\n",
    "data_naruki.drop(data_naruki[data_naruki.isnull().any(axis=1)].index.to_list(),axis=0,inplace=True)"
   ]
  },
  {
   "cell_type": "code",
   "execution_count": 199,
   "metadata": {},
   "outputs": [
    {
     "name": "stdout",
     "output_type": "stream",
     "text": [
      "<class 'pandas.core.frame.DataFrame'>\n",
      "Int64Index: 954948 entries, 0 to 955299\n",
      "Data columns (total 2 columns):\n",
      " #   Column  Non-Null Count   Dtype \n",
      "---  ------  --------------   ----- \n",
      " 0   id      954948 non-null  int64 \n",
      " 1   skill   954948 non-null  object\n",
      "dtypes: int64(1), object(1)\n",
      "memory usage: 21.9+ MB\n"
     ]
    }
   ],
   "source": [
    "data_naruki.info()"
   ]
  },
  {
   "cell_type": "code",
   "execution_count": 200,
   "metadata": {},
   "outputs": [
    {
     "data": {
      "text/plain": [
       "('Skill set :', 120107, 'skills :', 113181)"
      ]
     },
     "execution_count": 200,
     "metadata": {},
     "output_type": "execute_result"
    }
   ],
   "source": [
    "'Skill set :',len(data_naruki[\"id\"].unique()),'skills :',len(data_naruki[\"skill\"].unique())"
   ]
  },
  {
   "cell_type": "code",
   "execution_count": 201,
   "metadata": {},
   "outputs": [
    {
     "name": "stdout",
     "output_type": "stream",
     "text": [
      "finished\n"
     ]
    },
    {
     "data": {
      "text/plain": [
       "(120107, None)"
      ]
     },
     "execution_count": 201,
     "metadata": {},
     "output_type": "execute_result"
    }
   ],
   "source": [
    "# drop duplicate\n",
    "data_naruki.drop_duplicates(subset=['id', 'skill'], keep='last')\n",
    "# lower-case\n",
    "data_naruki['skill'] = data_naruki['skill'].str.lower()\n",
    "data_naruki['skill'] = data_naruki['skill'].str.replace(' ','_')\n",
    "#grouping\n",
    "data_naruki_final = data_naruki.groupby('id')['skill'].apply(list)\n",
    "len(data_naruki_final),print(\"finished\")"
   ]
  },
  {
   "cell_type": "code",
   "execution_count": 202,
   "metadata": {},
   "outputs": [],
   "source": [
    "final_naukri_skill_set=[]\n",
    "for skill_set in data_naruki_final:\n",
    "    temp=[]\n",
    "    for skill in skill_set:\n",
    "        if skill not in temp: #eliminating skill repeatations within skill set\n",
    "            temp.append(skill)\n",
    "    if temp not in final_naukri_skill_set: #eliminaing skill sets repeatations\n",
    "        final_naukri_skill_set.append(temp)"
   ]
  },
  {
   "cell_type": "code",
   "execution_count": 205,
   "metadata": {},
   "outputs": [
    {
     "data": {
      "text/plain": [
       "107319"
      ]
     },
     "execution_count": 205,
     "metadata": {},
     "output_type": "execute_result"
    }
   ],
   "source": [
    "len(final_naukri_skill_set)"
   ]
  },
  {
   "cell_type": "code",
   "execution_count": 206,
   "metadata": {},
   "outputs": [],
   "source": [
    "import pickle\n",
    "with open(\"naukri_skill_set_processed.pkl\", \"wb\") as f:\n",
    "    pickle.dump(final_naukri_skill_set ,f)\n",
    "# with open(\"naukri_skill_set_processed.pkl\",\"rb\") as f:\n",
    "#     a=pickle.load(f)\n",
    "#     print(a[1])\n"
   ]
  },
  {
   "attachments": {},
   "cell_type": "markdown",
   "metadata": {},
   "source": [
    "# prep_data_tokens_underscore_1"
   ]
  },
  {
   "cell_type": "code",
   "execution_count": 207,
   "metadata": {},
   "outputs": [
    {
     "name": "stdout",
     "output_type": "stream",
     "text": [
      "Loaded sucessfully\n"
     ]
    },
    {
     "data": {
      "text/plain": [
       "7146"
      ]
     },
     "execution_count": 207,
     "metadata": {},
     "output_type": "execute_result"
    }
   ],
   "source": [
    "with open(\"prep_data_tokens_underscore_1\", \"rb\") as g:\n",
    "    data_dice = cPickle.load(g)\n",
    "    print(\"Loaded sucessfully\")\n",
    "data_dice\n",
    "len(data_dice) #data_dice contains set of skills"
   ]
  },
  {
   "attachments": {},
   "cell_type": "markdown",
   "metadata": {},
   "source": [
    "lower case and # removing space are already done here"
   ]
  },
  {
   "cell_type": "code",
   "execution_count": 163,
   "metadata": {},
   "outputs": [],
   "source": [
    "final_skill_set=[]\n",
    "skills=[]\n",
    "for skill_set in data_dice:\n",
    "    temp=[]\n",
    "    for skill in skill_set:\n",
    "        if skill not in temp: #eliminating skill repeatations within skill set\n",
    "            temp.append(skill)\n",
    "            if skill not in skills:\n",
    "                skills.append(skill)\n",
    "    if temp not in final_skill_set: #eliminaing skill sets repeatations\n",
    "        final_skill_set.append(temp)"
   ]
  },
  {
   "cell_type": "code",
   "execution_count": 164,
   "metadata": {},
   "outputs": [
    {
     "name": "stdout",
     "output_type": "stream",
     "text": [
      "Prep_data_tokens has 7086 skill sets and 8358 skills\n"
     ]
    }
   ],
   "source": [
    "print(\"Prep_data_tokens has\",len(final_skill_set),'skill sets and',len(skills),'skills')"
   ]
  },
  {
   "cell_type": "code",
   "execution_count": 167,
   "metadata": {},
   "outputs": [],
   "source": [
    "import pickle\n",
    "with open(\"prep_data_skill_set_processed.pkl\", \"wb\") as f:\n",
    "    pickle.dump(final_skill_set ,f)\n",
    "# with open(\"naukri_skill_set_processed.pkl\",\"rb\") as f:\n",
    "#     a=pickle.load(f)\n",
    "#     print(a[1])\n"
   ]
  },
  {
   "cell_type": "markdown",
   "metadata": {},
   "source": [
    "# Must_have_skills"
   ]
  },
  {
   "cell_type": "code",
   "execution_count": 215,
   "metadata": {},
   "outputs": [
    {
     "name": "stdout",
     "output_type": "stream",
     "text": [
      "(261724, 2)\n"
     ]
    }
   ],
   "source": [
    "data_must_have = pd.read_csv('mustHaveSkills-2.csv',header = 0, encoding='ISO-8859-1') #reading the dataset\n",
    "del data_must_have['job_brief_id'] #droping job_breif_id because this column doesn't have any relevance\n",
    "\n",
    "data_must_have.drop_duplicates(subset=['keyword_name', 'job_title'], keep='last') #drop the records which has same keyword and job_title \n",
    "print(data_must_have.shape) \n",
    "\n",
    "data_must_have = data_must_have[data_must_have[\"job_title\"] != 0] #take only the records which doesn't have zero for the column job_title\n",
    "\n",
    "data_must_have['keyword_name'] = data_must_have['keyword_name'].str.lower() # coverting keyword_name column to lowercase\n",
    "data_must_have['keyword_name'] = data_must_have['keyword_name'].str.replace(' ' ,'_') # replacing blank spaces with underscore in keyword_name column\n",
    "data_must_have['job_title'] = data_must_have['job_title'].str.lower()\n"
   ]
  },
  {
   "cell_type": "code",
   "execution_count": 219,
   "metadata": {},
   "outputs": [
    {
     "data": {
      "text/html": [
       "<div>\n",
       "<style scoped>\n",
       "    .dataframe tbody tr th:only-of-type {\n",
       "        vertical-align: middle;\n",
       "    }\n",
       "\n",
       "    .dataframe tbody tr th {\n",
       "        vertical-align: top;\n",
       "    }\n",
       "\n",
       "    .dataframe thead th {\n",
       "        text-align: right;\n",
       "    }\n",
       "</style>\n",
       "<table border=\"1\" class=\"dataframe\">\n",
       "  <thead>\n",
       "    <tr style=\"text-align: right;\">\n",
       "      <th></th>\n",
       "      <th>keyword_name</th>\n",
       "      <th>job_title</th>\n",
       "    </tr>\n",
       "  </thead>\n",
       "  <tbody>\n",
       "    <tr>\n",
       "      <th>0</th>\n",
       "      <td>php</td>\n",
       "      <td>web designer</td>\n",
       "    </tr>\n",
       "    <tr>\n",
       "      <th>1</th>\n",
       "      <td>php</td>\n",
       "      <td>web developer</td>\n",
       "    </tr>\n",
       "    <tr>\n",
       "      <th>2</th>\n",
       "      <td>php</td>\n",
       "      <td>full stack developer</td>\n",
       "    </tr>\n",
       "    <tr>\n",
       "      <th>3</th>\n",
       "      <td>php</td>\n",
       "      <td>dev ops</td>\n",
       "    </tr>\n",
       "    <tr>\n",
       "      <th>4</th>\n",
       "      <td>php</td>\n",
       "      <td>product manager</td>\n",
       "    </tr>\n",
       "    <tr>\n",
       "      <th>...</th>\n",
       "      <td>...</td>\n",
       "      <td>...</td>\n",
       "    </tr>\n",
       "    <tr>\n",
       "      <th>261693</th>\n",
       "      <td>financial</td>\n",
       "      <td>director finance</td>\n",
       "    </tr>\n",
       "    <tr>\n",
       "      <th>261714</th>\n",
       "      <td>c</td>\n",
       "      <td>game developer</td>\n",
       "    </tr>\n",
       "    <tr>\n",
       "      <th>261718</th>\n",
       "      <td>c++</td>\n",
       "      <td>game developer</td>\n",
       "    </tr>\n",
       "    <tr>\n",
       "      <th>261722</th>\n",
       "      <td>c#</td>\n",
       "      <td>game developer</td>\n",
       "    </tr>\n",
       "    <tr>\n",
       "      <th>261723</th>\n",
       "      <td>c#</td>\n",
       "      <td>game programmer</td>\n",
       "    </tr>\n",
       "  </tbody>\n",
       "</table>\n",
       "<p>72015 rows × 2 columns</p>\n",
       "</div>"
      ],
      "text/plain": [
       "       keyword_name             job_title\n",
       "0               php          web designer\n",
       "1               php         web developer\n",
       "2               php  full stack developer\n",
       "3               php               dev ops\n",
       "4               php       product manager\n",
       "...             ...                   ...\n",
       "261693    financial      director finance\n",
       "261714            c        game developer\n",
       "261718          c++        game developer\n",
       "261722           c#        game developer\n",
       "261723           c#       game programmer\n",
       "\n",
       "[72015 rows x 2 columns]"
      ]
     },
     "execution_count": 219,
     "metadata": {},
     "output_type": "execute_result"
    }
   ],
   "source": [
    "data_must_have.drop_duplicates()\n"
   ]
  },
  {
   "cell_type": "code",
   "execution_count": 232,
   "metadata": {},
   "outputs": [
    {
     "data": {
      "text/plain": [
       "4596"
      ]
     },
     "execution_count": 232,
     "metadata": {},
     "output_type": "execute_result"
    }
   ],
   "source": [
    "len(data_must_have[\"job_title\"].unique())"
   ]
  },
  {
   "cell_type": "code",
   "execution_count": 220,
   "metadata": {},
   "outputs": [
    {
     "name": "stdout",
     "output_type": "stream",
     "text": [
      "finished\n"
     ]
    }
   ],
   "source": [
    "gr_df_keywordname = data_must_have.groupby('keyword_name')['job_title'].apply(list) #group the dataset based on keyword_name \n",
    "gr_df_jobtitle = data_must_have.groupby('job_title')['keyword_name'].apply(list) #group the dataset based on keyword_name \n",
    "print(\"finished\")"
   ]
  },
  {
   "cell_type": "code",
   "execution_count": 228,
   "metadata": {},
   "outputs": [],
   "source": [
    "final_skill_set=[]\n",
    "skills=[]\n",
    "for skill_set in gr_df_jobtitle:\n",
    "    if len(skill_set) > 2:\n",
    "        temp=[]\n",
    "        for skill in skill_set:\n",
    "            if skill not in temp: #eliminating skill repeatations within skill set\n",
    "                temp.append(skill)\n",
    "                if skill not in skills: #used for counting the number of skills can be commented if not needed\n",
    "                    skills.append(skill)\n",
    "        if temp not in final_skill_set:\n",
    "            final_skill_set.append(temp)"
   ]
  },
  {
   "cell_type": "code",
   "execution_count": 234,
   "metadata": {},
   "outputs": [
    {
     "data": {
      "text/plain": [
       "(2721, 6843)"
      ]
     },
     "execution_count": 234,
     "metadata": {},
     "output_type": "execute_result"
    }
   ],
   "source": [
    "len(final_skill_set),len(skills)"
   ]
  },
  {
   "cell_type": "code",
   "execution_count": null,
   "metadata": {},
   "outputs": [],
   "source": [
    "import pickle\n",
    "with open(\"must_have_skill_set_processed.pkl\", \"wb\") as f:\n",
    "    pickle.dump(final_skill_set ,f)\n",
    "# with open(\"naukri_skill_set_processed.pkl\",\"rb\") as f:\n",
    "#     a=pickle.load(f)\n",
    "#     print(a[1])"
   ]
  }
 ],
 "metadata": {
  "kernelspec": {
   "display_name": "Python 3",
   "language": "python",
   "name": "python3"
  },
  "language_info": {
   "codemirror_mode": {
    "name": "ipython",
    "version": 3
   },
   "file_extension": ".py",
   "mimetype": "text/x-python",
   "name": "python",
   "nbconvert_exporter": "python",
   "pygments_lexer": "ipython3",
   "version": "3.8.11"
  }
 },
 "nbformat": 4,
 "nbformat_minor": 0
}
