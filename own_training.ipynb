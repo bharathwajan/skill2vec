{
 "cells": [
  {
   "cell_type": "markdown",
   "metadata": {},
   "source": [
    "# Getting all processed datasets and combining them"
   ]
  },
  {
   "cell_type": "code",
   "execution_count": null,
   "metadata": {
    "vscode": {
     "languageId": "plaintext"
    }
   },
   "outputs": [],
   "source": [
    "fifty_k=\n",
    "must_have_skills=\n",
    "naukri="
   ]
  },
  {
   "cell_type": "code",
   "execution_count": null,
   "metadata": {
    "vscode": {
     "languageId": "plaintext"
    }
   },
   "outputs": [],
   "source": [
    "with open(\"naukri_skill_set_processed.pkl\",\"rb\") as f:\n",
    "    naukri=pickle.load(f)\n",
    "with open(\"50k_skill_set_processed.pkl\",\"rb\") as f:\n",
    "    fifty_tk=pickle.load(f)\n",
    "with open(\"must_have_skill_set_processed.pkl\",\"rb\") as f:\n",
    "    must_have=pickle.load(f)\n",
    "with open(\"prep_data_skill_set_processed.pkl\",\"rb\") as f:\n",
    "    prep_data=pickle.load(f)"
   ]
  }
 ],
 "metadata": {
  "language_info": {
   "name": "python"
  },
  "orig_nbformat": 4
 },
 "nbformat": 4,
 "nbformat_minor": 2
}
